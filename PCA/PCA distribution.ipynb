{
 "cells": [
  {
   "cell_type": "code",
   "execution_count": null,
   "metadata": {},
   "outputs": [],
   "source": [
    "#encoding:utf-8\n",
    "###########import packages##########\n",
    "import shap\n",
    "import tensorflow as tf\n",
    "import keras\n",
    "from keras import optimizers\n",
    "from keras import regularizers\n",
    "from keras import backend as K\n",
    "from keras.callbacks import EarlyStopping\n",
    "from keras.callbacks import TensorBoard\n",
    "from keras.constraints import max_norm\n",
    "from keras.models import Sequential \n",
    "from keras.layers import Dense \n",
    "from keras.layers import Dropout \n",
    "from keras.models import Model\n",
    "from keras.layers import BatchNormalization\n",
    "from keras.wrappers.scikit_learn import KerasClassifier \n",
    "from keras.wrappers.scikit_learn import KerasRegressor\n",
    "from keras.constraints import maxnorm \n",
    "import pandas as pd\n",
    "import matplotlib.pyplot as plt\n",
    "import numpy as np\n",
    "import xgboost \n",
    "import lightgbm\n",
    "import catboost\n",
    "from sklearn.ensemble import RandomForestRegressor\n",
    "from sklearn.model_selection import GridSearchCV\n",
    "from xgboost import plot_importance\n",
    "from xgboost import XGBClassifier\n",
    "from sklearn.model_selection import train_test_split\n",
    "from sklearn.metrics import accuracy_score\n",
    "from sklearn.metrics import classification_report\n",
    "from sklearn import ensemble\n",
    "from sklearn.tree import ExtraTreeRegressor\n",
    "from sklearn import svm\n",
    "from sklearn import neighbors\n",
    "from sklearn import tree\n",
    "from sklearn.impute import SimpleImputer\n",
    "from sklearn.metrics import r2_score\n",
    "%matplotlib\n",
    "###########wrapping root mean square error for later calls##########\n",
    "def compute_mae_mse_rmse(target,prediction):\n",
    "    error = []\n",
    "    for i in range(len(target)):\n",
    "        error.append(target[i] - prediction[i])\n",
    "    squaredError = []\n",
    "    absError = []\n",
    "    for val in error:\n",
    "        squaredError.append(val * val)  # target-prediction之差平方\n",
    "        absError.append(abs(val))  # 误差绝对值\n",
    "    mae=sum(absError)/len(absError)  # 平均绝对误差MAE\n",
    "    mse=sum(squaredError)/len(squaredError)  # 均方误差MSE\n",
    "    RMSE=np.sqrt(sum(squaredError)/len(squaredError))\n",
    "    R2=r2_score(target,prediction)\n",
    "    return mae,mse,RMSE,R2\n",
    "###########loading data##########\n",
    "fdata=pd.read_csv('datatest.csv',encoding=\"gbk\")\n",
    "raw_data=fdata.loc[:,['Membrane Thickness (μm)',#0\n",
    "                      'GDE(1 for GDE 0 for CCM)',#1\n",
    "                      'Dielectric Constant (C  N-1 M-2)',#2\n",
    "                      'Flash Point(℃)',#3\n",
    "                      'Stirring Method (0 for Mechanical Stirring 1 for Ultrasound)',#4\n",
    "                      'Stirring Temp (℃)',#5\n",
    "                      'Flow Rate (mL min-1)',#6\n",
    "                      'Water Content (wt%)',#7\n",
    "                      'Nafion EW (mol g-1)',#8\n",
    "                      'Anodic Platinum Loading Amount (mgPt cm-2)',#9\n",
    "                      'Cathodic Platinum Loading Amount (mgPt cm-2)',#10\n",
    "                      'Drying Temperature (℃)',#11\n",
    "                      'I/C',#12\n",
    "                      'Cell Temperature (℃)',#13\n",
    "                      'Anode Flow Rate (sccm)',#14\n",
    "                      'Cathode Flow Rate (sccm)',#15\n",
    "                      'Active Area (cm2)',#16\n",
    "                      'Solid Content (wt%)',#17\n",
    "                      'Backpressure (Mpa)'#18\n",
    "                        ]]"
   ]
  },
  {
   "cell_type": "code",
   "execution_count": null,
   "metadata": {},
   "outputs": [],
   "source": [
    "mat=raw_data.corr(method='spearman')#kendall #pearson\n",
    "print(type(mat))"
   ]
  },
  {
   "cell_type": "code",
   "execution_count": null,
   "metadata": {},
   "outputs": [],
   "source": [
    "import seaborn as sns\n",
    "import numpy as np\n",
    "import pandas as pd\n",
    "import matplotlib.pyplot as plt\n",
    "f, ax= plt.subplots(figsize = (14, 10))\n",
    "sns.set(font_scale=0.55)\n",
    "sns.heatmap(mat, \n",
    "                annot=True, vmax=1,vmin = 0, xticklabels= True, yticklabels= True, square=True, cmap=\"gist_heat_r\")"
   ]
  },
  {
   "cell_type": "code",
   "execution_count": null,
   "metadata": {},
   "outputs": [],
   "source": [
    "PD06_CL=fdata.loc[:,['PD06_CL']]\n",
    "PTUTIL_CL=fdata.loc[:,['PTUTIL_CL']]"
   ]
  },
  {
   "cell_type": "code",
   "execution_count": null,
   "metadata": {},
   "outputs": [],
   "source": [
    "def summarize(list1):\n",
    "    total=0\n",
    "    for ele in range(0, len(list1)):\n",
    "        total = total + list1[ele]\n",
    "    return total\n",
    "from sklearn.decomposition import PCA"
   ]
  },
  {
   "cell_type": "code",
   "execution_count": null,
   "metadata": {},
   "outputs": [],
   "source": [
    "pca_3 = PCA(n_components=3)\n",
    "chem_3 = pca_3.fit_transform(raw_data)     \n",
    "print(pca_3.explained_variance_ratio_)\n",
    "\n",
    "pca_2 = PCA(n_components=2)\n",
    "chem_2 = pca_2.fit_transform(raw_data)     \n",
    "print(pca_2.explained_variance_ratio_)\n",
    "\n",
    "\n",
    "\n",
    "\n",
    "print(summarize(pca_3.explained_variance_ratio_))\n",
    "\n",
    "print(summarize(pca_2.explained_variance_ratio_))"
   ]
  },
  {
   "cell_type": "code",
   "execution_count": null,
   "metadata": {},
   "outputs": [],
   "source": [
    "from mpl_toolkits.mplot3d import Axes3D\n",
    "def plot_3d_PCA(dataset,classification_result):\n",
    "    cl=classification_result.values[:,0]\n",
    "    colors = ['red', 'blue']\n",
    "    # 根据主成分分析结果绘制散点图\n",
    "    fig=plt.figure()\n",
    "    ax=Axes3D(fig)\n",
    "    for i in range(len(colors)):\n",
    "        x = dataset[:, 0][cl == i]\n",
    "        y = dataset[:, 1][cl == i]\n",
    "        z = dataset[:, 2][cl == i]\n",
    "        ax.scatter(x,y,z,c=colors[i])\n",
    "        ax.set_zlabel('Third Principal Component')\n",
    "    # 设置图例，0-9用不同颜色表示\n",
    "    plt.legend(np.array([0,1]), bbox_to_anchor=(1.05, 1), loc=2, borderaxespad=0.)\n",
    "    # 设置坐标标签\n",
    "    plt.xlabel('First Principal Component')\n",
    "    plt.ylabel('Second Principal Component')\n",
    "    # 设置标题\n",
    "    plt.title(\"PCA Scatter Plot 3D\")\n",
    "    plt.show()\n",
    "def plot_2d_PCA(dataset,classification_result):\n",
    "    cl=classification_result.values[:,0]\n",
    "    colors = ['red', 'blue']\n",
    "    # 根据主成分分析结果绘制散点图\n",
    "    fig=plt.figure()\n",
    "    for i in range(len(colors)):\n",
    "        x = dataset[:, 0][cl == i]\n",
    "        y = dataset[:, 1][cl == i]\n",
    "        plt.scatter(x,y,c=colors[i])\n",
    "    # 设置图例，0-9用不同颜色表示\n",
    "    plt.legend(np.array([0,1]), bbox_to_anchor=(1.05, 1), loc=2, borderaxespad=0.)\n",
    "    # 设置坐标标签\n",
    "    plt.xlabel('First Principal Component')\n",
    "    plt.ylabel('Second Principal Component')\n",
    "    # 设置标题\n",
    "    plt.title(\"PCA Scatter Plot 2D\")\n",
    "    # 显示图形\n",
    "    plt.show()"
   ]
  },
  {
   "cell_type": "code",
   "execution_count": null,
   "metadata": {},
   "outputs": [],
   "source": [
    "plot_3d_PCA(chem_3,PD06_CL)"
   ]
  },
  {
   "cell_type": "code",
   "execution_count": null,
   "metadata": {},
   "outputs": [],
   "source": [
    "plot_3d_PCA(chem_3,PTUTIL_CL)"
   ]
  },
  {
   "cell_type": "code",
   "execution_count": null,
   "metadata": {},
   "outputs": [],
   "source": [
    "plot_2d_PCA(chem_2,PD06_CL)"
   ]
  },
  {
   "cell_type": "code",
   "execution_count": null,
   "metadata": {},
   "outputs": [],
   "source": [
    "plot_2d_PCA(chem_2,PTUTIL_CL)"
   ]
  },
  {
   "cell_type": "code",
   "execution_count": null,
   "metadata": {},
   "outputs": [],
   "source": []
  }
 ],
 "metadata": {
  "kernelspec": {
   "display_name": "Python 3",
   "language": "python",
   "name": "python3"
  },
  "language_info": {
   "codemirror_mode": {
    "name": "ipython",
    "version": 3
   },
   "file_extension": ".py",
   "mimetype": "text/x-python",
   "name": "python",
   "nbconvert_exporter": "python",
   "pygments_lexer": "ipython3",
   "version": "3.7.6"
  }
 },
 "nbformat": 4,
 "nbformat_minor": 4
}
